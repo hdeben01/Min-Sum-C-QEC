{
 "cells": [
  {
   "cell_type": "code",
   "execution_count": 1,
   "id": "49446c44",
   "metadata": {},
   "outputs": [
    {
     "name": "stdout",
     "output_type": "stream",
     "text": [
      "Collecting numpy\n",
      "  Downloading numpy-2.3.2-cp313-cp313-manylinux_2_27_x86_64.manylinux_2_28_x86_64.whl.metadata (62 kB)\n",
      "Downloading numpy-2.3.2-cp313-cp313-manylinux_2_27_x86_64.manylinux_2_28_x86_64.whl (16.6 MB)\n",
      "\u001b[2K   \u001b[38;2;114;156;31m━━━━━━━━━━━━━━━━━━━━━━━━━━━━━━━━━━━━━━━━\u001b[0m \u001b[32m16.6/16.6 MB\u001b[0m \u001b[31m780.8 kB/s\u001b[0m eta \u001b[36m0:00:00\u001b[0mm eta \u001b[36m0:00:01\u001b[0m0:01\u001b[0m:02\u001b[0m\n",
      "\u001b[?25hInstalling collected packages: numpy\n",
      "Successfully installed numpy-2.3.2\n",
      "\n",
      "\u001b[1m[\u001b[0m\u001b[34;49mnotice\u001b[0m\u001b[1;39;49m]\u001b[0m\u001b[39;49m A new release of pip is available: \u001b[0m\u001b[31;49m24.3.1\u001b[0m\u001b[39;49m -> \u001b[0m\u001b[32;49m25.2\u001b[0m\n",
      "\u001b[1m[\u001b[0m\u001b[34;49mnotice\u001b[0m\u001b[1;39;49m]\u001b[0m\u001b[39;49m To update, run: \u001b[0m\u001b[32;49mpip install --upgrade pip\u001b[0m\n"
     ]
    }
   ],
   "source": [
    "!pip3 install numpy"
   ]
  },
  {
   "cell_type": "code",
   "execution_count": null,
   "id": "71f59567",
   "metadata": {},
   "outputs": [],
   "source": [
    "import numpy as np\n",
    "from wrapper import compute_check_to_value  # tu wrapper Cython\n",
    "\n",
    "def show_matrix(L, pcm_matrix, rows, cols):\n",
    "    print(\"Initial L Matrix:\")\n",
    "    for i in range(rows):\n",
    "        row_str = []\n",
    "        for j in range(cols):\n",
    "            if pcm_matrix[i][j] == 1:\n",
    "                row_str.append(f\"{L[i][j]:.2f}\")\n",
    "            else:\n",
    "                row_str.append(\"0.00\")\n",
    "        print(\" \".join(row_str))\n",
    "\n",
    "\n",
    "def main():\n",
    "    with open(\"input3.txt\", \"r\") as f:\n",
    "        # Leer p\n",
    "        p = float(f.readline().strip())\n",
    "        p = 1.0 - (2.0/3.0) * p\n",
    "\n",
    "        # Leer filas y columnas\n",
    "        rows, cols = map(int, f.readline().split())\n",
    "\n",
    "        # Inicializar matrices\n",
    "        pcm_matrix = np.zeros((rows, cols), dtype=int)\n",
    "        L = np.zeros((rows, cols), dtype=float)\n",
    "\n",
    "        # Leer pcm_matrix y L\n",
    "        for i in range(rows):\n",
    "            values = list(map(int, f.readline().split()))\n",
    "            for j, value in enumerate(values):\n",
    "                pcm_matrix[i, j] = value\n",
    "                if value == 1:\n",
    "                    L[i, j] = p\n",
    "                else:\n",
    "                    L[i, j] = 0.0\n",
    "\n",
    "        # Leer syndrome\n",
    "        syndrome = list(map(int, f.readline().split()))\n",
    "        print(\"Initial Syndrome:\", \" \".join(map(str, syndrome)))\n",
    "\n",
    "        # Inicializar Lj\n",
    "        Lj = np.full(cols, p, dtype=float)\n",
    "        print(f\"Lj: {p:.2f}\")\n",
    "\n",
    "        # Leer alpha\n",
    "        alpha = float(f.readline().strip())\n",
    "        print(f\"Alpha: {alpha:.2f}\")\n",
    "\n",
    "        # Leer número de iteraciones\n",
    "        num_it = int(f.readline().strip())\n",
    "        print(f\"Max Iterations: {num_it}\\n\")\n",
    "\n",
    "        # Mostrar L inicial\n",
    "        show_matrix(L, pcm_matrix, rows, cols)\n",
    "\n",
    "        # Llamar a la función de Cython\n",
    "        compute_check_to_value(L, pcm_matrix, syndrome, rows, cols, Lj, alpha, num_it)\n",
    "\n",
    "\n",
    "if __name__ == \"__main__\":\n",
    "    main()\n"
   ]
  }
 ],
 "metadata": {
  "kernelspec": {
   "display_name": "pruebas_cython",
   "language": "python",
   "name": "python3"
  },
  "language_info": {
   "codemirror_mode": {
    "name": "ipython",
    "version": 3
   },
   "file_extension": ".py",
   "mimetype": "text/x-python",
   "name": "python",
   "nbconvert_exporter": "python",
   "pygments_lexer": "ipython3",
   "version": "3.13.3"
  }
 },
 "nbformat": 4,
 "nbformat_minor": 5
}
